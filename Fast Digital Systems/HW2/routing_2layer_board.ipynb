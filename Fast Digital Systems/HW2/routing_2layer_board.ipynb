{
 "cells": [
  {
   "cell_type": "code",
   "execution_count": 42,
   "metadata": {},
   "outputs": [],
   "source": [
    "import numpy as np\n",
    "\n",
    "num_origin = 5\n",
    "num_destin = 5\n",
    "S = 25 # Size: Length and width of the board\n",
    "L = 2  # Depth (layers). This is always 2. I added it here for clarity\n",
    "\n",
    "# Create a 3D array of size 25x25x2 initialized with zeros\n",
    "board  = np.zeros((S, S, L), dtype=np.uint8)\n",
    "\n",
    "# choose 10 unique random points on the board on the first layer but only between 1 and S-2 (in our case it's 23)\n",
    "points = np.random.choice(np.arange(1, S-2), size=(num_origin + num_destin, 2), replace=False)\n",
    "\n",
    "# split the points into origins and destinations\n",
    "origins_2d = points[:num_origin]\n",
    "destins_2d = points[num_origin:]\n",
    "\n",
    "# expand the 2D points to 3D points by adding the layer index to be 0 (will be useful in the routing check operations)\n",
    "origins    = np.hstack((origins_2d, np.zeros((num_origin, 1), dtype=np.uint8)))\n",
    "destins    = np.hstack((destins_2d, np.zeros((num_destin, 1), dtype=np.uint8)))\n",
    "\n",
    "# # convert the 3D points to tuples for easy indexing in the search function\n",
    "# origins = [tuple(element) for element in origins]\n",
    "# destins = [tuple(element) for element in destins]\n",
    "\n",
    "\n",
    "# assign the locations of origin and destination points as occupied\n",
    "# for i in range(num_origin):\n",
    "#     board[origins[i]] = 1\n",
    "# for i in range(num_destin):\n",
    "#     board[destins[i]] = 1\n",
    "\n",
    "# assign the border of the board as occupied on all layers\n",
    "board[origins[:, 0], origins[:, 1], 0] = 1\n",
    "board[destins[:, 0], destins[:, 1], 0] = 1\n",
    "board[0,  :,  :] = 1\n",
    "board[24, :,  :] = 1\n",
    "board[:,  0,  :] = 1\n",
    "board[:,  24, :] = 1"
   ]
  },
  {
   "cell_type": "code",
   "execution_count": 51,
   "metadata": {},
   "outputs": [],
   "source": [
    "# define a function to check if a point is occupied\n",
    "def is_occupied(point, wave):\n",
    "    return board[point] == 1 or wave[point] != 0\n",
    "\n",
    "# define a recursive function to expand the wave and search for the shortest path to the finish\n",
    "def wave_search(wave, point, distance, finish):\n",
    "    if point == finish:\n",
    "        return np.array(point)\n",
    "    if is_occupied(point, wave):\n",
    "        return None\n",
    "    wave[point] = distance\n",
    "    for i in range(-1, 1):\n",
    "        for j in range(-1, 1):\n",
    "            if i == 0 and j == 0:\n",
    "                continue\n",
    "            result = wave_search(wave, ((point[0]+i), (point[1]+j), point[2]), distance + 1, finish)\n",
    "            if result is not None:\n",
    "                return [np.array(point), result]\n",
    "    temp = point[2] ^ 1\n",
    "    result = wave_search(wave, ((point[0]+i), (point[1]+j), temp), distance + 1, finish)\n",
    "    if result is not None:\n",
    "        return [np.array(point), result]\n",
    "    return None "
   ]
  },
  {
   "cell_type": "code",
   "execution_count": 52,
   "metadata": {},
   "outputs": [],
   "source": [
    "# Start the routing process\n",
    "\n",
    "# I'm using the defenition of distance where straight lines are distance 1, and diagonals are distance 2.\n",
    "paths = []  # Define \"paths\" as an empty array before the loop\n",
    "for i in range(5):\n",
    "    start = tuple(origins[i])\n",
    "    for j in range(5):\n",
    "        finish = tuple(destins[j])\n",
    "        wave = np.zeros((25, 25, 2), dtype=np.int8)\n",
    "        paths.append(wave_search(wave, start, 0, finish))  # Append the result of wave_search to \"paths\""
   ]
  },
  {
   "cell_type": "code",
   "execution_count": 53,
   "metadata": {},
   "outputs": [
    {
     "data": {
      "image/png": "[encoded data removed]",
      "text/plain": [
       "<Figure size 800x800 with 1 Axes>"
      ]
     },
     "metadata": {},
     "output_type": "display_data"
    }
   ],
   "source": [
    "import matplotlib.pyplot as plt\n",
    "plt.style.use('_mpl-gallery')\n",
    "\n",
    "plt.figure(figsize=(8,8))\n",
    "plt.imshow(board[:, :, 0])\n",
    "plt.xlim(-0.5, 24.5)\n",
    "plt.ylim(-0.5, 24.5)\n",
    "plt.xlabel('X')\n",
    "plt.ylabel('Y')\n",
    "plt.scatter(origins[:, 1], origins[:, 0], c='r', label='Origins')\n",
    "plt.scatter(destins[:, 1], destins[:, 0], c='g', label='Destinations')\n",
    "plt.grid(False)\n",
    "plt.legend()\n",
    "plt.tight_layout()\n",
    "plt.show()"
   ]
  },
  {
   "cell_type": "code",
   "execution_count": null,
   "metadata": {},
   "outputs": [],
   "source": [
    "print(\"Origins:\\n\", origins, \"\\n\")\n",
    "print(\"Destinations:\\n\", destins, \"\\n\")\n",
    "print(\"Points:\\n\", points)"
   ]
  }
 ],
 "metadata": {
  "kernelspec": {
   "display_name": "Python 3",
   "language": "python",
   "name": "python3"
  },
  "language_info": {
   "codemirror_mode": {
    "name": "ipython",
    "version": 3
   },
   "file_extension": ".py",
   "mimetype": "text/x-python",
   "name": "python",
   "nbconvert_exporter": "python",
   "pygments_lexer": "ipython3",
   "version": "3.12.3"
  }
 },
 "nbformat": 4,
 "nbformat_minor": 2
}
